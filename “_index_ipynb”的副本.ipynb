{
  "nbformat": 4,
  "nbformat_minor": 0,
  "metadata": {
    "colab": {
      "name": "“_index.ipynb”的副本",
      "version": "0.3.2",
      "provenance": [],
      "private_outputs": true,
      "collapsed_sections": [],
      "include_colab_link": true
    },
    "kernelspec": {
      "display_name": "Python 3",
      "name": "python3"
    }
  },
  "cells": [
    {
      "cell_type": "markdown",
      "metadata": {
        "id": "view-in-github",
        "colab_type": "text"
      },
      "source": [
        "<a href=\"https://colab.research.google.com/github/fighterzzzh/Andrew_Ng_DL_Assignment/blob/master/%E2%80%9C_index_ipynb%E2%80%9D%E7%9A%84%E5%89%AF%E6%9C%AC.ipynb\" target=\"_parent\"><img src=\"https://colab.research.google.com/assets/colab-badge.svg\" alt=\"Open In Colab\"/></a>"
      ]
    },
    {
      "metadata": {
        "colab_type": "text",
        "id": "rX8mhOLljYeM"
      },
      "cell_type": "markdown",
      "source": [
        "##### Copyright 2018 The TensorFlow Authors.\n",
        "\n",
        "Licensed under the Apache License, Version 2.0 (the \"License\");"
      ]
    },
    {
      "metadata": {
        "id": "EUyks1yzqr8F",
        "colab_type": "code",
        "colab": {}
      },
      "cell_type": "code",
      "source": [
        ""
      ],
      "execution_count": 0,
      "outputs": []
    },
    {
      "metadata": {
        "cellView": "form",
        "colab_type": "code",
        "id": "BZSlp3DAjdYf",
        "colab": {}
      },
      "cell_type": "code",
      "source": [
        "#@title Licensed under the Apache License, Version 2.0 (the \"License\");\n",
        "# you may not use this file except in compliance with the License.\n",
        "# You may obtain a copy of the License at\n",
        "#\n",
        "# https://www.apache.org/licenses/LICENSE-2.0\n",
        "#\n",
        "# Unless required by applicable law or agreed to in writing, software\n",
        "# distributed under the License is distributed on an \"AS IS\" BASIS,\n",
        "# WITHOUT WARRANTIES OR CONDITIONS OF ANY KIND, either express or implied.\n",
        "# See the License for the specific language governing permissions and\n",
        "# limitations under the License."
      ],
      "execution_count": 0,
      "outputs": []
    },
    {
      "metadata": {
        "colab_type": "text",
        "id": "3wF5wszaj97Y"
      },
      "cell_type": "markdown",
      "source": [
        "# Get Started with TensorFlow"
      ]
    },
    {
      "metadata": {
        "colab_type": "text",
        "id": "DUNzJc4jTj6G"
      },
      "cell_type": "markdown",
      "source": [
        "<table class=\"tfo-notebook-buttons\" align=\"left\">\n",
        "  <td>\n",
        "    <a target=\"_blank\" href=\"https://www.tensorflow.org/tutorials/\"><img src=\"https://www.tensorflow.org/images/tf_logo_32px.png\" />View on TensorFlow.org</a>\n",
        "  </td>\n",
        "  <td>\n",
        "    <a target=\"_blank\" href=\"https://colab.research.google.com/github/tensorflow/docs/blob/master/site/en/tutorials/_index.ipynb\"><img src=\"https://www.tensorflow.org/images/colab_logo_32px.png\" />Run in Google Colab</a>\n",
        "  </td>\n",
        "  <td>\n",
        "    <a target=\"_blank\" href=\"https://github.com/tensorflow/docs/blob/master/site/en/tutorials/_index.ipynb\"><img src=\"https://www.tensorflow.org/images/GitHub-Mark-32px.png\" />View source on GitHub</a>\n",
        "  </td>\n",
        "</table>"
      ]
    },
    {
      "metadata": {
        "colab_type": "text",
        "id": "hiH7AC-NTniF"
      },
      "cell_type": "markdown",
      "source": [
        "This is a [Google Colaboratory](https://colab.research.google.com/notebooks/welcome.ipynb) notebook file. Python programs are run directly in the browser—a great way to learn and use TensorFlow. To run the Colab notebook:\n",
        "\n",
        "1. Connect to a Python runtime: At the top-right of the menu bar, select *CONNECT*.\n",
        "2. Run all the notebook code cells: Select *Runtime* > *Run all*.\n",
        "\n",
        "For more examples and guides (including details for this program), see [Get Started with TensorFlow](https://www.tensorflow.org/get_started/).\n",
        "\n",
        "Let's get started, import the TensorFlow library into your program:"
      ]
    },
    {
      "metadata": {
        "colab_type": "code",
        "id": "0trJmd6DjqBZ",
        "colab": {}
      },
      "cell_type": "code",
      "source": [
        "from tensorflow.examples.tutorials.mnist import input_data\n",
        "import tensorflow as tf\n",
        "mnist=input_data.read_data_sets(\"MNIST_data/\",one_hot=True)\n"
      ],
      "execution_count": 0,
      "outputs": []
    },
    {
      "metadata": {
        "colab_type": "text",
        "id": "7NAbSZiaoJ4z"
      },
      "cell_type": "markdown",
      "source": [
        "quan"
      ]
    },
    {
      "metadata": {
        "colab_type": "code",
        "id": "7FP5258xjs-v",
        "colab": {}
      },
      "cell_type": "code",
      "source": [
        "sess=tf.InteractiveSession()\n",
        "def weight_variable(shape):\n",
        "  initial=tf.truncated_normal(shape,stddev=0.1)\n",
        "  return tf.Variable(initial)\n",
        "\n",
        "def bias_variable(shape):\n",
        "  initial=tf.constant(0.1,shape=shape)\n",
        "  return tf.Variable(initial)"
      ],
      "execution_count": 0,
      "outputs": []
    },
    {
      "metadata": {
        "colab_type": "text",
        "id": "BPZ68wASog_I"
      },
      "cell_type": "markdown",
      "source": [
        "Build the `tf.keras` model by stacking layers. Select an optimizer and loss function used for training:"
      ]
    },
    {
      "metadata": {
        "colab_type": "code",
        "id": "h3IKyzTCDNGo",
        "colab": {}
      },
      "cell_type": "code",
      "source": [
        "def conv2d(x,W):\n",
        "  return tf.nn.conv2d(x,W,strides=[1,1,1,1],padding='SAME')\n",
        "\n",
        "def max_pool_2x2(x):\n",
        "  return tf.nn.max_pool(x,[1,2,2,1],[1,2,2,1,],'SAME')\n"
      ],
      "execution_count": 0,
      "outputs": []
    },
    {
      "metadata": {
        "colab_type": "text",
        "id": "ix4mEL65on-w"
      },
      "cell_type": "markdown",
      "source": [
        "定义输入占位"
      ]
    },
    {
      "metadata": {
        "id": "diq68isE5mHi",
        "colab_type": "code",
        "colab": {}
      },
      "cell_type": "code",
      "source": [
        "x=tf.placeholder(tf.float32,[None,784])\n",
        "y_=tf.placeholder(tf.float32,[None,10])\n",
        "x_image=tf.reshape(x,[-1,28,28,1])\n",
        "  "
      ],
      "execution_count": 0,
      "outputs": []
    },
    {
      "metadata": {
        "id": "YmZoy9BqCtyU",
        "colab_type": "text"
      },
      "cell_type": "markdown",
      "source": [
        "定义第一个卷积层\n",
        "5x5 1 通道 32 层"
      ]
    },
    {
      "metadata": {
        "id": "YjqmRgpf80ma",
        "colab_type": "code",
        "colab": {}
      },
      "cell_type": "code",
      "source": [
        "W_conv1=weight_variable([5,5,1,32])\n",
        "b_conv1=bias_variable([32])\n",
        "h_conv1=tf.nn.relu(conv2d(x_image,W_conv1)+b_conv1)\n",
        "h_pool1=max_pool_2x2(h_conv1)\n"
      ],
      "execution_count": 0,
      "outputs": []
    },
    {
      "metadata": {
        "id": "Mj3NtUtxCrj1",
        "colab_type": "text"
      },
      "cell_type": "markdown",
      "source": [
        "定义第二层网络结构"
      ]
    },
    {
      "metadata": {
        "colab_type": "code",
        "id": "F7dTAzgHDUh7",
        "colab": {}
      },
      "cell_type": "code",
      "source": [
        "W_conv2=weight_variable([5,5,32,64])\n",
        "b_conv2=bias_variable([64])\n",
        "h_conv2=tf.nn.relu(conv2d(h_pool1,W_conv2)+b_conv2)\n",
        "h_pool2=max_pool_2x2(h_conv2)"
      ],
      "execution_count": 0,
      "outputs": []
    },
    {
      "metadata": {
        "id": "Uv7-XO9HHogN",
        "colab_type": "text"
      },
      "cell_type": "markdown",
      "source": [
        "全连接层"
      ]
    },
    {
      "metadata": {
        "id": "YiH5MRfmHo61",
        "colab_type": "code",
        "colab": {}
      },
      "cell_type": "code",
      "source": [
        "W_fc1=weight_variable([7*7*64,1024])\n",
        "b_fc1=bias_variable([1024])\n",
        "h_pool2_flat=tf.reshape(h_pool2,[-1,7*7*64])\n",
        "h_fc1=tf.nn.relu(tf.matmul(h_pool2_flat,W_fc1)+b_fc1)"
      ],
      "execution_count": 0,
      "outputs": []
    },
    {
      "metadata": {
        "id": "WZguQSwcHpQV",
        "colab_type": "text"
      },
      "cell_type": "markdown",
      "source": [
        "Dropout层\n",
        "keep_prob比率来控制"
      ]
    },
    {
      "metadata": {
        "id": "ks0J1iklHpjV",
        "colab_type": "code",
        "colab": {}
      },
      "cell_type": "code",
      "source": [
        "keep_prod=tf.placeholder(tf.float32)\n",
        "h_fc1_drop=tf.nn.dropout(h_fc1,keep_prod)"
      ],
      "execution_count": 0,
      "outputs": []
    },
    {
      "metadata": {
        "id": "NHyYksPOHp09",
        "colab_type": "text"
      },
      "cell_type": "markdown",
      "source": [
        "softmax层"
      ]
    },
    {
      "metadata": {
        "id": "hlSq33ZzHqFF",
        "colab_type": "code",
        "colab": {}
      },
      "cell_type": "code",
      "source": [
        "W_fc2=weight_variable([1024,10])\n",
        "B_fc2=bias_variable([10])\n",
        "y_conv=tf.nn.softmax(tf.multiply(W_fc2,B_fc2)+B_fc2)"
      ],
      "execution_count": 0,
      "outputs": []
    },
    {
      "metadata": {
        "id": "8NXsUWQzZ7jb",
        "colab_type": "text"
      },
      "cell_type": "markdown",
      "source": [
        "损失函数,cross_entropy\n",
        "以及优化函数"
      ]
    },
    {
      "metadata": {
        "id": "GzdcTl5BZ6DT",
        "colab_type": "code",
        "colab": {}
      },
      "cell_type": "code",
      "source": [
        "cross_entropy=tf.reduce_mean(-tf.reduce_sum(y_*tf.log(y_conv),reduction_indices=[1]))\n",
        "train_step=tf.train.AdadeltaOptimizer(1e-4).minimize(cross_entropy)"
      ],
      "execution_count": 0,
      "outputs": []
    },
    {
      "metadata": {
        "id": "PfueBSjxZ6mT",
        "colab_type": "text"
      },
      "cell_type": "markdown",
      "source": [
        "定义评测正确率"
      ]
    },
    {
      "metadata": {
        "id": "puuWemY8dGqO",
        "colab_type": "code",
        "colab": {}
      },
      "cell_type": "code",
      "source": [
        "correct_prediction=tf.equal(tf.argmax(y_conv,1),tf.argmax(y_,1))\n",
        "accuracy=tf.reduce_mean(tf.cast(correct_prediction,tf.float32))"
      ],
      "execution_count": 0,
      "outputs": []
    },
    {
      "metadata": {
        "id": "TD1P8dLJfAbn",
        "colab_type": "text"
      },
      "cell_type": "markdown",
      "source": [
        "训练\n"
      ]
    },
    {
      "metadata": {
        "id": "XT0FUeMHe_Jn",
        "colab_type": "text"
      },
      "cell_type": "markdown",
      "source": [
        ""
      ]
    },
    {
      "metadata": {
        "id": "zu3zdWDRe-Po",
        "colab_type": "code",
        "colab": {}
      },
      "cell_type": "code",
      "source": [
        "tf.global_variables_initializer().run()\n",
        "for i in range(2000):\n",
        "  batch=mnist.train.next_batch(50)\n",
        "  if i%100 == 0:\n",
        "    train_accurcy=accuracy.eval(feed_dict={x:batch[0],y_:batch[1],keep_prod:1.0})\n",
        "    print(\"step %d,train accuarcy %g\"%(i,train_accuracy))\n",
        "  train_step.run(feed_dict={x:batch[0],y_:batch[1],keep_prod:0.5})\n"
      ],
      "execution_count": 0,
      "outputs": []
    },
    {
      "metadata": {
        "id": "uFeJsjfnqi_D",
        "colab_type": "code",
        "colab": {}
      },
      "cell_type": "code",
      "source": [
        ""
      ],
      "execution_count": 0,
      "outputs": []
    },
    {
      "metadata": {
        "colab_type": "text",
        "id": "T4JfEh7kvx6m"
      },
      "cell_type": "markdown",
      "source": [
        "You’ve now trained an image classifier with ~98% accuracy on this dataset. See [Get Started with TensorFlow](https://www.tensorflow.org/get_started/) to learn more."
      ]
    }
  ]
}